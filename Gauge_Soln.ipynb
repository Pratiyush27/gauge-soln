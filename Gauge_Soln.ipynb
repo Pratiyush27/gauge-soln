{
  "nbformat": 4,
  "nbformat_minor": 0,
  "metadata": {
    "colab": {
      "name": "Gauge Soln.ipynb",
      "provenance": [],
      "collapsed_sections": []
    },
    "kernelspec": {
      "name": "python3",
      "display_name": "Python 3"
    }
  },
  "cells": [
    {
      "cell_type": "code",
      "metadata": {
        "id": "ENEXg6ZPZyf6",
        "outputId": "ac1f726e-13c5-4d62-e236-e42a05e3afb6",
        "colab": {
          "base_uri": "https://localhost:8080/"
        }
      },
      "source": [
        "!pip install biopython"
      ],
      "execution_count": 1,
      "outputs": [
        {
          "output_type": "stream",
          "text": [
            "Collecting biopython\n",
            "\u001b[?25l  Downloading https://files.pythonhosted.org/packages/76/02/8b606c4aa92ff61b5eda71d23b499ab1de57d5e818be33f77b01a6f435a8/biopython-1.78-cp36-cp36m-manylinux1_x86_64.whl (2.3MB)\n",
            "\u001b[K     |████████████████████████████████| 2.3MB 2.7MB/s \n",
            "\u001b[?25hRequirement already satisfied: numpy in /usr/local/lib/python3.6/dist-packages (from biopython) (1.18.5)\n",
            "Installing collected packages: biopython\n",
            "Successfully installed biopython-1.78\n"
          ],
          "name": "stdout"
        }
      ]
    },
    {
      "cell_type": "code",
      "metadata": {
        "id": "rBaBl62QjSGv",
        "outputId": "ac1654de-fdf5-4ebd-a765-1728b7746f6c",
        "colab": {
          "base_uri": "https://localhost:8080/"
        }
      },
      "source": [
        "from Bio import Entrez\n",
        "\n",
        "def search(query):\n",
        "    Entrez.email = 'youremail@email.com'\n",
        "    handle = Entrez.esearch(db='pubmed', \n",
        "                            sort='relevance', \n",
        "                            retmax='100',\n",
        "                            retmode='xml', \n",
        "                            term=query)\n",
        "    results = Entrez.read(handle)\n",
        "    return results\n",
        "\n",
        "def fetch_details(id_list):\n",
        "    ids = ','.join(id_list)\n",
        "    Entrez.email = 'pratiyuush@gmail.com'\n",
        "    handle = Entrez.efetch(db='pubmed',\n",
        "                           retmode='xml',\n",
        "                           id=ids)\n",
        "    results = Entrez.read(handle)\n",
        "    return results\n",
        "\n",
        "if __name__ == '__main__':\n",
        "    results = search('neurodegenerative diseases')\n",
        "    id_list = results['IdList']\n",
        "    papers = fetch_details(id_list)\n",
        "    lines = []\n",
        "    for i, paper in enumerate(papers['PubmedArticle']):\n",
        "      print(\"%d) %s\" % (i+1, paper['MedlineCitation']['Article']['ArticleTitle']))\n",
        "      lines.append(paper['MedlineCitation']['Article']['ArticleTitle'])\n"
      ],
      "execution_count": 2,
      "outputs": [
        {
          "output_type": "stream",
          "text": [
            "1) Molecular chaperones biochemistry and role in neurodegenerative diseases.\n",
            "2) microRNA dysregulation in neurodegenerative diseases: A systematic review.\n",
            "3) Potential for therapeutic use of hydrogen sulfide in oxidative stress-induced neurodegenerative diseases.\n",
            "4) Dietary Inflammatory Potential and the Risk of Neurodegenerative Diseases in Adults.\n",
            "5) Hypertension, Diabetes and Neurodegenerative Diseases: Is there a Clinical Link through the Ca2+/cAMP Signalling Interaction?\n",
            "6) Targeting Purinergic Signaling and Cell Therapy in Cardiovascular and Neurodegenerative Diseases.\n",
            "7) Regulatory roles of the miR-200 family in neurodegenerative diseases.\n",
            "8) Regulation of Autophagy in Neurodegenerative Diseases by Natural Products.\n",
            "9) Do Microglial Sex Differences Contribute to Sex Differences in Neurodegenerative Diseases?\n",
            "10) Exosome Biomarkers Revolutionize Preclinical Diagnosis of Neurodegenerative Diseases and Assessment of Treatment Responses in Clinical Trials.\n",
            "11) Effect of Regulatory Network of Exosomes and microRNAs on Neurodegenerative Diseases.\n",
            "12) Dynamin-related protein 1: A critical protein in the pathogenesis of neural system dysfunctions and neurodegenerative diseases.\n",
            "13) Combating Neurodegenerative Diseases with the Plant Alkaloid Berberine: Molecular Mechanisms and Therapeutic Potential.\n",
            "14) DNA double-strand breaks: a potential therapeutic target for neurodegenerative diseases.\n",
            "15) [Speech disorders in neurodegenerative diseases as dysphasia manifestation].\n",
            "16) The Protective Effects of Green Tea Catechins in the Management of Neurodegenerative Diseases: A Review.\n",
            "17) Protein misfolding and aggregation in neurodegenerative diseases: a review of pathogeneses, novel detection strategies, and potential therapeutics.\n",
            "18) [Sleep abnormality as a potential target of disease-modifying therapy for neurodegenerative diseases].\n",
            "19) Animal models of olfactory dysfunction in neurodegenerative diseases.\n",
            "20) C. elegans as a Model for Synucleinopathies and Other Neurodegenerative Diseases: Tools and Techniques.\n",
            "21) Clinical value of nutritional status in neurodegenerative diseases: What is its impact and how it affects disease progression and management?\n",
            "22) Insights into cancer and neurodegenerative diseases through selenoproteins and the connection with gut microbiota - current analytical methodologies.\n",
            "23) Prion-like propagation of α-synuclein in neurodegenerative diseases.\n",
            "24) A concise review of human brain methylome during aging and neurodegenerative diseases.\n",
            "25) Non-self mutation: double-stranded RNA elicits antiviral pathogenic response in a Drosophila model of expanded CAG repeat neurodegenerative diseases.\n",
            "26) Olfactory Dysfunction in Neurodegenerative Diseases.\n",
            "27) Nerolidol and its Pharmacological Application in Treating Neurodegenerative Diseases: A Review.\n",
            "28) Determination of Parameters of Oxidative Stress in vitro Models of Neurodegenerative Diseases-A Review.\n",
            "29) Precision Medicine in Neurodegenerative Diseases: Some Promising Tips Coming from the microRNAs' World.\n",
            "30) Lipophilic antioxidants in neurodegenerative diseases.\n",
            "31) Using induced pluripotent stem cell neuronal models to study neurodegenerative diseases.\n",
            "32) Circular RNAs: the Emerging Class of Non-coding RNAs and Their Potential Role in Human Neurodegenerative Diseases.\n",
            "33) Natural Products in Neurodegenerative Diseases: A Great Promise but an Ethical Challenge.\n",
            "34) The Potential of Flavonoids for the Treatment of Neurodegenerative Diseases.\n",
            "35) Mercury Involvement in Neuronal Damage and in Neurodegenerative Diseases.\n",
            "36) Antisense Transcription in Loci Associated to Hereditary Neurodegenerative Diseases.\n",
            "37) Cerebrospinal Fluid and Plasma Biomarkers in Neurodegenerative Diseases.\n",
            "38) Use of Curcumin, a Natural Polyphenol for Targeting Molecular Pathways in Treating Age-Related Neurodegenerative Diseases.\n",
            "39) [Poly adenosine diphosphate-ribosylation and neurodegenerative diseases].\n",
            "40) Nuclear Receptors as Therapeutic Targets for Neurodegenerative Diseases: Lost in Translation.\n",
            "41) Interplay among gut microbiota, intestinal mucosal barrier and enteric neuro-immune system: a common path to neurodegenerative diseases?\n",
            "42) Propagation of Protein Aggregation in Neurodegenerative Diseases.\n",
            "43) Mitochondria and neurodegenerative diseases: Special issue of BMB Reports in 2020.\n",
            "44) Regulation of mitophagy by the ubiquitin pathway in neurodegenerative diseases.\n",
            "45) Diagnostic function of the neuroinflammatory biomarker YKL-40 in Alzheimer's disease and other neurodegenerative diseases.\n",
            "46) Nucleic acid aptamers for neurodegenerative diseases.\n",
            "47) Genetic effects of welding fumes on the progression of neurodegenerative diseases.\n",
            "48) Free and Cued Selective Reminding Test - accuracy for the differential diagnosis of Alzheimer's and neurodegenerative diseases: A large-scale biomarker-characterized monocenter cohort study (ClinAD).\n",
            "49) Emerging links between cerebrovascular and neurodegenerative diseases-a special role for pericytes.\n",
            "50) Dynasore Suppresses mTORC1 Activity and Induces Autophagy to Regulate the Clearance of Protein Aggregates in Neurodegenerative Diseases.\n",
            "51) Repurposing of Copper(II)-chelating Drugs for the Treatment of Neurodegenerative Diseases.\n",
            "52) Glutamate, Glutamate Transporters, and Circadian Rhythm Sleep Disorders in Neurodegenerative Diseases.\n",
            "53) The Renin-Angiotensin System and the Neurodegenerative Diseases: A Brief Review.\n",
            "54) Rare Neurodegenerative Diseases: Clinical and Genetic Update.\n",
            "55) Mitochondrial dysfunction plays a key role in the development of neurodegenerative diseases in diabetes.\n",
            "56) Locus coeruleus imaging as a biomarker for noradrenergic dysfunction in neurodegenerative diseases.\n",
            "57) Differential protein expression of hippocampal cells associated with heavy metals (Pb, As, and MeHg) neurotoxicity: Deepening into the molecular mechanism of neurodegenerative diseases.\n",
            "58) The Contribution of Necroptosis in Neurodegenerative Diseases.\n",
            "59) Inflammation in CNS neurodegenerative diseases.\n",
            "60) Guidelines on experimental methods to assess mitochondrial dysfunction in cellular models of neurodegenerative diseases.\n",
            "61) Pharmacological intervention of early neuropathy in neurodegenerative diseases.\n",
            "62) Alteration of Sphingolipids in Biofluids: Implications for Neurodegenerative Diseases.\n",
            "63) Burden of neurodegenerative diseases in the Eastern Mediterranean Region, 1990-2016: findings from the Global Burden of Disease Study 2016.\n",
            "64) The Nrf2 Signaling in Retinal Ganglion Cells under Oxidative Stress in Ocular Neurodegenerative Diseases.\n",
            "65) Antisense oligonucleotide therapeutics in neurodegenerative diseases: the case of polyglutamine disorders.\n",
            "66) The Role of Long Noncoding RNAs in Neurodegenerative Diseases.\n",
            "67) Concise Review: Mesenchymal Stem Cells in Neurodegenerative Diseases.\n",
            "68) Asparagine endopeptidase is an innovative therapeutic target for neurodegenerative diseases.\n",
            "69) Reasonably activating Nrf2: A long-term, effective and controllable strategy for neurodegenerative diseases.\n",
            "70) Uncovering the Pharmacological Mechanism of Stemazole in the Treatment of Neurodegenerative Diseases Based on a Network Pharmacology Approach.\n",
            "71) Role of c-Myc/chloride intracellular channel 4 pathway in lipopolysaccharide-induced neurodegenerative diseases.\n",
            "72) Genetics of neurodegenerative diseases for the advanced practice provider.\n",
            "73) Using proteomics to identify ubiquitin ligase-substrate pairs: how novel methods may unveil therapeutic targets for neurodegenerative diseases.\n",
            "74) Relationships between Rapid Eye Movement Sleep Behavior Disorder and Neurodegenerative Diseases: Clinical Assessments, Biomarkers, and Treatment.\n",
            "75) STIM Proteins and Glutamate Receptors in Neurons: Role in Neuronal Physiology and Neurodegenerative Diseases.\n",
            "76) Play in advance against neurodegeneration: exploring enteric glial cells in gut-brain axis during neurodegenerative diseases.\n",
            "77) Detecting Common Pathways and Key Molecules of Neurodegenerative Diseases from the Topology of Molecular Networks.\n",
            "78) Misfolded Protein Linked Strategies Toward Biomarker Development for Neurodegenerative Diseases.\n",
            "79) Concepts and classification of neurodegenerative diseases.\n",
            "80) A comparative system-level analysis of the neurodegenerative diseases.\n",
            "81) Epigenetics in Neurodegenerative Diseases: The Role of Histone Deacetylases.\n",
            "82) Golgi Fragmentation in Neurodegenerative Diseases: Is There a Common Cause?\n",
            "83) The small heat shock proteins, especially HspB4 and HspB5 are promising protectants in neurodegenerative diseases.\n",
            "84) Chronic eczematous dermatitis in patients with neurodegenerative diseases may be an early marker of bullous pemphigoid.\n",
            "85) Adrenomedullin, a Novel Target for Neurodegenerative Diseases.\n",
            "86) The Role of Sigma-1 Receptor, an Intracellular Chaperone in Neurodegenerative Diseases.\n",
            "87) Roles of chitinase 3-like 1 in the development of cancer, neurodegenerative diseases, and inflammatory diseases.\n",
            "88) Fused in Sarcoma: Properties, Self-Assembly and Correlation with Neurodegenerative Diseases.\n",
            "89) Brain Region-Specific Gene Signatures Revealed by Distinct Astrocyte Subpopulations Unveil Links to Glioma and Neurodegenerative Diseases.\n",
            "90) Mesenchymal stem cell-mediated immunomodulation in cell therapy of neurodegenerative diseases.\n",
            "91) Lipid and Lipid Raft Alteration in Aging and Neurodegenerative Diseases: A Window for the Development of New Biomarkers.\n",
            "92) Review of the anti-inflammatory effect of SIRT1 and SIRT2 modulators on neurodegenerative diseases.\n",
            "93) Recent advances of induced pluripotent stem cells application in neurodegenerative diseases.\n",
            "94) Ferroptosis Is Regulated by Mitochondria in Neurodegenerative Diseases.\n",
            "95) Emerging Role of Genetic Alterations Affecting Exosome Biology in Neurodegenerative Diseases.\n",
            "96) Hsp90 and Its Co-Chaperones in Neurodegenerative Diseases.\n",
            "97) The Neuropathological and Clinical Diagnostic Criteria of Chronic Traumatic Encephalopathy: A Critical Examination in Relation to Other Neurodegenerative Diseases.\n",
            "98) Chemical Basis of Reactive Oxygen Species Reactivity and Involvement in Neurodegenerative Diseases.\n",
            "99) Mitochondrial dynamics, a key executioner in neurodegenerative diseases.\n",
            "100) Emerging Developments in Targeting Proteotoxicity in Neurodegenerative Diseases.\n"
          ],
          "name": "stdout"
        }
      ]
    },
    {
      "cell_type": "code",
      "metadata": {
        "id": "q-PMwZGUnvC_"
      },
      "source": [
        ""
      ],
      "execution_count": null,
      "outputs": []
    },
    {
      "cell_type": "code",
      "metadata": {
        "id": "43-MIkq1xDDo"
      },
      "source": [
        ""
      ],
      "execution_count": null,
      "outputs": []
    },
    {
      "cell_type": "code",
      "metadata": {
        "id": "YLEPCIeIxDU8"
      },
      "source": [
        "s = \"\"\n",
        "for res in lines:\n",
        "  s = s + res + \" \""
      ],
      "execution_count": 3,
      "outputs": []
    },
    {
      "cell_type": "code",
      "metadata": {
        "id": "pPFR-cU4x0nH",
        "outputId": "43d5fc77-8116-48e9-db1d-24b694910bbf",
        "colab": {
          "base_uri": "https://localhost:8080/"
        }
      },
      "source": [
        "print(s)"
      ],
      "execution_count": 4,
      "outputs": [
        {
          "output_type": "stream",
          "text": [
            "Molecular chaperones biochemistry and role in neurodegenerative diseases. microRNA dysregulation in neurodegenerative diseases: A systematic review. Potential for therapeutic use of hydrogen sulfide in oxidative stress-induced neurodegenerative diseases. Dietary Inflammatory Potential and the Risk of Neurodegenerative Diseases in Adults. Hypertension, Diabetes and Neurodegenerative Diseases: Is there a Clinical Link through the Ca2+/cAMP Signalling Interaction? Targeting Purinergic Signaling and Cell Therapy in Cardiovascular and Neurodegenerative Diseases. Regulatory roles of the miR-200 family in neurodegenerative diseases. Regulation of Autophagy in Neurodegenerative Diseases by Natural Products. Do Microglial Sex Differences Contribute to Sex Differences in Neurodegenerative Diseases? Exosome Biomarkers Revolutionize Preclinical Diagnosis of Neurodegenerative Diseases and Assessment of Treatment Responses in Clinical Trials. Effect of Regulatory Network of Exosomes and microRNAs on Neurodegenerative Diseases. Dynamin-related protein 1: A critical protein in the pathogenesis of neural system dysfunctions and neurodegenerative diseases. Combating Neurodegenerative Diseases with the Plant Alkaloid Berberine: Molecular Mechanisms and Therapeutic Potential. DNA double-strand breaks: a potential therapeutic target for neurodegenerative diseases. [Speech disorders in neurodegenerative diseases as dysphasia manifestation]. The Protective Effects of Green Tea Catechins in the Management of Neurodegenerative Diseases: A Review. Protein misfolding and aggregation in neurodegenerative diseases: a review of pathogeneses, novel detection strategies, and potential therapeutics. [Sleep abnormality as a potential target of disease-modifying therapy for neurodegenerative diseases]. Animal models of olfactory dysfunction in neurodegenerative diseases. C. elegans as a Model for Synucleinopathies and Other Neurodegenerative Diseases: Tools and Techniques. Clinical value of nutritional status in neurodegenerative diseases: What is its impact and how it affects disease progression and management? Insights into cancer and neurodegenerative diseases through selenoproteins and the connection with gut microbiota - current analytical methodologies. Prion-like propagation of α-synuclein in neurodegenerative diseases. A concise review of human brain methylome during aging and neurodegenerative diseases. Non-self mutation: double-stranded RNA elicits antiviral pathogenic response in a Drosophila model of expanded CAG repeat neurodegenerative diseases. Olfactory Dysfunction in Neurodegenerative Diseases. Nerolidol and its Pharmacological Application in Treating Neurodegenerative Diseases: A Review. Determination of Parameters of Oxidative Stress in vitro Models of Neurodegenerative Diseases-A Review. Precision Medicine in Neurodegenerative Diseases: Some Promising Tips Coming from the microRNAs' World. Lipophilic antioxidants in neurodegenerative diseases. Using induced pluripotent stem cell neuronal models to study neurodegenerative diseases. Circular RNAs: the Emerging Class of Non-coding RNAs and Their Potential Role in Human Neurodegenerative Diseases. Natural Products in Neurodegenerative Diseases: A Great Promise but an Ethical Challenge. The Potential of Flavonoids for the Treatment of Neurodegenerative Diseases. Mercury Involvement in Neuronal Damage and in Neurodegenerative Diseases. Antisense Transcription in Loci Associated to Hereditary Neurodegenerative Diseases. Cerebrospinal Fluid and Plasma Biomarkers in Neurodegenerative Diseases. Use of Curcumin, a Natural Polyphenol for Targeting Molecular Pathways in Treating Age-Related Neurodegenerative Diseases. [Poly adenosine diphosphate-ribosylation and neurodegenerative diseases]. Nuclear Receptors as Therapeutic Targets for Neurodegenerative Diseases: Lost in Translation. Interplay among gut microbiota, intestinal mucosal barrier and enteric neuro-immune system: a common path to neurodegenerative diseases? Propagation of Protein Aggregation in Neurodegenerative Diseases. Mitochondria and neurodegenerative diseases: Special issue of BMB Reports in 2020. Regulation of mitophagy by the ubiquitin pathway in neurodegenerative diseases. Diagnostic function of the neuroinflammatory biomarker YKL-40 in Alzheimer's disease and other neurodegenerative diseases. Nucleic acid aptamers for neurodegenerative diseases. Genetic effects of welding fumes on the progression of neurodegenerative diseases. Free and Cued Selective Reminding Test - accuracy for the differential diagnosis of Alzheimer's and neurodegenerative diseases: A large-scale biomarker-characterized monocenter cohort study (ClinAD). Emerging links between cerebrovascular and neurodegenerative diseases-a special role for pericytes. Dynasore Suppresses mTORC1 Activity and Induces Autophagy to Regulate the Clearance of Protein Aggregates in Neurodegenerative Diseases. Repurposing of Copper(II)-chelating Drugs for the Treatment of Neurodegenerative Diseases. Glutamate, Glutamate Transporters, and Circadian Rhythm Sleep Disorders in Neurodegenerative Diseases. The Renin-Angiotensin System and the Neurodegenerative Diseases: A Brief Review. Rare Neurodegenerative Diseases: Clinical and Genetic Update. Mitochondrial dysfunction plays a key role in the development of neurodegenerative diseases in diabetes. Locus coeruleus imaging as a biomarker for noradrenergic dysfunction in neurodegenerative diseases. Differential protein expression of hippocampal cells associated with heavy metals (Pb, As, and MeHg) neurotoxicity: Deepening into the molecular mechanism of neurodegenerative diseases. The Contribution of Necroptosis in Neurodegenerative Diseases. Inflammation in CNS neurodegenerative diseases. Guidelines on experimental methods to assess mitochondrial dysfunction in cellular models of neurodegenerative diseases. Pharmacological intervention of early neuropathy in neurodegenerative diseases. Alteration of Sphingolipids in Biofluids: Implications for Neurodegenerative Diseases. Burden of neurodegenerative diseases in the Eastern Mediterranean Region, 1990-2016: findings from the Global Burden of Disease Study 2016. The Nrf2 Signaling in Retinal Ganglion Cells under Oxidative Stress in Ocular Neurodegenerative Diseases. Antisense oligonucleotide therapeutics in neurodegenerative diseases: the case of polyglutamine disorders. The Role of Long Noncoding RNAs in Neurodegenerative Diseases. Concise Review: Mesenchymal Stem Cells in Neurodegenerative Diseases. Asparagine endopeptidase is an innovative therapeutic target for neurodegenerative diseases. Reasonably activating Nrf2: A long-term, effective and controllable strategy for neurodegenerative diseases. Uncovering the Pharmacological Mechanism of Stemazole in the Treatment of Neurodegenerative Diseases Based on a Network Pharmacology Approach. Role of c-Myc/chloride intracellular channel 4 pathway in lipopolysaccharide-induced neurodegenerative diseases. Genetics of neurodegenerative diseases for the advanced practice provider. Using proteomics to identify ubiquitin ligase-substrate pairs: how novel methods may unveil therapeutic targets for neurodegenerative diseases. Relationships between Rapid Eye Movement Sleep Behavior Disorder and Neurodegenerative Diseases: Clinical Assessments, Biomarkers, and Treatment. STIM Proteins and Glutamate Receptors in Neurons: Role in Neuronal Physiology and Neurodegenerative Diseases. Play in advance against neurodegeneration: exploring enteric glial cells in gut-brain axis during neurodegenerative diseases. Detecting Common Pathways and Key Molecules of Neurodegenerative Diseases from the Topology of Molecular Networks. Misfolded Protein Linked Strategies Toward Biomarker Development for Neurodegenerative Diseases. Concepts and classification of neurodegenerative diseases. A comparative system-level analysis of the neurodegenerative diseases. Epigenetics in Neurodegenerative Diseases: The Role of Histone Deacetylases. Golgi Fragmentation in Neurodegenerative Diseases: Is There a Common Cause? The small heat shock proteins, especially HspB4 and HspB5 are promising protectants in neurodegenerative diseases. Chronic eczematous dermatitis in patients with neurodegenerative diseases may be an early marker of bullous pemphigoid. Adrenomedullin, a Novel Target for Neurodegenerative Diseases. The Role of Sigma-1 Receptor, an Intracellular Chaperone in Neurodegenerative Diseases. Roles of chitinase 3-like 1 in the development of cancer, neurodegenerative diseases, and inflammatory diseases. Fused in Sarcoma: Properties, Self-Assembly and Correlation with Neurodegenerative Diseases. Brain Region-Specific Gene Signatures Revealed by Distinct Astrocyte Subpopulations Unveil Links to Glioma and Neurodegenerative Diseases. Mesenchymal stem cell-mediated immunomodulation in cell therapy of neurodegenerative diseases. Lipid and Lipid Raft Alteration in Aging and Neurodegenerative Diseases: A Window for the Development of New Biomarkers. Review of the anti-inflammatory effect of SIRT1 and SIRT2 modulators on neurodegenerative diseases. Recent advances of induced pluripotent stem cells application in neurodegenerative diseases. Ferroptosis Is Regulated by Mitochondria in Neurodegenerative Diseases. Emerging Role of Genetic Alterations Affecting Exosome Biology in Neurodegenerative Diseases. Hsp90 and Its Co-Chaperones in Neurodegenerative Diseases. The Neuropathological and Clinical Diagnostic Criteria of Chronic Traumatic Encephalopathy: A Critical Examination in Relation to Other Neurodegenerative Diseases. Chemical Basis of Reactive Oxygen Species Reactivity and Involvement in Neurodegenerative Diseases. Mitochondrial dynamics, a key executioner in neurodegenerative diseases. Emerging Developments in Targeting Proteotoxicity in Neurodegenerative Diseases. \n"
          ],
          "name": "stdout"
        }
      ]
    },
    {
      "cell_type": "code",
      "metadata": {
        "id": "NMUpD5Me3JxN"
      },
      "source": [
        ""
      ],
      "execution_count": 4,
      "outputs": []
    },
    {
      "cell_type": "code",
      "metadata": {
        "id": "FJWpNDDm3J9o"
      },
      "source": [
        "from sklearn.feature_extraction.text import CountVectorizer \n",
        "def get_top_n_words(corpus, n=None):\n",
        "    vec = CountVectorizer().fit(corpus)\n",
        "    bag_of_words = vec.transform(corpus)\n",
        "    sum_words = bag_of_words.sum(axis=0) \n",
        "    words_freq = [(word, sum_words[0, idx]) for word, idx in vec.vocabulary_.items()]\n",
        "    words_freq =sorted(words_freq, key = lambda x: x[1], reverse=True)\n",
        "    return words_freq[:n]"
      ],
      "execution_count": 5,
      "outputs": []
    },
    {
      "cell_type": "code",
      "metadata": {
        "id": "yknmFJyw3SjA"
      },
      "source": [
        "words_freq = get_top_n_words(lines,10)"
      ],
      "execution_count": 6,
      "outputs": []
    },
    {
      "cell_type": "code",
      "metadata": {
        "id": "FruVuSDC3cqQ",
        "outputId": "39d27ee7-8f09-4d0b-dc8f-f28d5e4fb9fa",
        "colab": {
          "base_uri": "https://localhost:8080/"
        }
      },
      "source": [
        "words_freq"
      ],
      "execution_count": 7,
      "outputs": [
        {
          "output_type": "execute_result",
          "data": {
            "text/plain": [
              "[('diseases', 101),\n",
              " ('neurodegenerative', 100),\n",
              " ('in', 74),\n",
              " ('of', 67),\n",
              " ('and', 51),\n",
              " ('the', 40),\n",
              " ('for', 20),\n",
              " ('role', 10),\n",
              " ('review', 9),\n",
              " ('to', 9)]"
            ]
          },
          "metadata": {
            "tags": []
          },
          "execution_count": 7
        }
      ]
    },
    {
      "cell_type": "code",
      "metadata": {
        "id": "S_OZGPIo4Iwb"
      },
      "source": [
        "thresshold = words_freq[9][1]"
      ],
      "execution_count": 8,
      "outputs": []
    },
    {
      "cell_type": "code",
      "metadata": {
        "id": "odaZswiW4UwK",
        "outputId": "b158e5d6-39ba-46be-e986-5c1660da6254",
        "colab": {
          "base_uri": "https://localhost:8080/"
        }
      },
      "source": [
        "print(thresshold)"
      ],
      "execution_count": 9,
      "outputs": [
        {
          "output_type": "stream",
          "text": [
            "9\n"
          ],
          "name": "stdout"
        }
      ]
    },
    {
      "cell_type": "code",
      "metadata": {
        "id": "SOWueMyG4XUj"
      },
      "source": [
        "all_words_freq = get_top_n_words(lines,len(lines))"
      ],
      "execution_count": 10,
      "outputs": []
    },
    {
      "cell_type": "code",
      "metadata": {
        "id": "cyjO4TUY92ox"
      },
      "source": [
        "words = [words_freq[i][0] for i in range(10)]"
      ],
      "execution_count": 11,
      "outputs": []
    },
    {
      "cell_type": "code",
      "metadata": {
        "id": "VbAmzPTW92mc",
        "outputId": "8a9daa37-b95f-4cbd-d152-6cdc7124c008",
        "colab": {
          "base_uri": "https://localhost:8080/"
        }
      },
      "source": [
        "words"
      ],
      "execution_count": 12,
      "outputs": [
        {
          "output_type": "execute_result",
          "data": {
            "text/plain": [
              "['diseases',\n",
              " 'neurodegenerative',\n",
              " 'in',\n",
              " 'of',\n",
              " 'and',\n",
              " 'the',\n",
              " 'for',\n",
              " 'role',\n",
              " 'review',\n",
              " 'to']"
            ]
          },
          "metadata": {
            "tags": []
          },
          "execution_count": 12
        }
      ]
    },
    {
      "cell_type": "code",
      "metadata": {
        "id": "3ynLuBTpgHX8"
      },
      "source": [
        "new_lines = []\n",
        "bad_chars = [';', ':', '!', '/','.','-',',','(',')','\"','[',']']\n",
        "for line in lines:\n",
        "  for e in bad_chars:\n",
        "    line = line.replace(e,'')\n",
        "  line = line.lower()\n",
        "  new_line = line.split()\n",
        "  line = \"\"\n",
        "  for new_word in new_line:\n",
        "    if new_word in words:\n",
        "      new_word = new_word.replace(new_word,\"\")\n",
        "      continue\n",
        "    line = line+new_word+\" \"  \n",
        "  new_lines.append(line[:-1])"
      ],
      "execution_count": 13,
      "outputs": []
    },
    {
      "cell_type": "code",
      "metadata": {
        "id": "RDs9xuFwlqKA",
        "outputId": "5c576dfa-9c28-465d-99a6-f2b016d95843",
        "colab": {
          "base_uri": "https://localhost:8080/"
        }
      },
      "source": [
        "new_lines"
      ],
      "execution_count": 14,
      "outputs": [
        {
          "output_type": "execute_result",
          "data": {
            "text/plain": [
              "['molecular chaperones biochemistry',\n",
              " 'microrna dysregulation a systematic',\n",
              " 'potential therapeutic use hydrogen sulfide oxidative stressinduced',\n",
              " 'dietary inflammatory potential risk adults',\n",
              " 'hypertension diabetes is there a clinical link through ca2+camp signalling interaction?',\n",
              " 'targeting purinergic signaling cell therapy cardiovascular',\n",
              " 'regulatory roles mir200 family',\n",
              " 'regulation autophagy by natural products',\n",
              " 'do microglial sex differences contribute sex differences diseases?',\n",
              " 'exosome biomarkers revolutionize preclinical diagnosis assessment treatment responses clinical trials',\n",
              " 'effect regulatory network exosomes micrornas on',\n",
              " 'dynaminrelated protein 1 a critical protein pathogenesis neural system dysfunctions',\n",
              " 'combating with plant alkaloid berberine molecular mechanisms therapeutic potential',\n",
              " 'dna doublestrand breaks a potential therapeutic target',\n",
              " 'speech disorders as dysphasia manifestation',\n",
              " 'protective effects green tea catechins management a',\n",
              " 'protein misfolding aggregation a pathogeneses novel detection strategies potential therapeutics',\n",
              " 'sleep abnormality as a potential target diseasemodifying therapy',\n",
              " 'animal models olfactory dysfunction',\n",
              " 'c elegans as a model synucleinopathies other tools techniques',\n",
              " 'clinical value nutritional status what is its impact how it affects disease progression management?',\n",
              " 'insights into cancer through selenoproteins connection with gut microbiota current analytical methodologies',\n",
              " 'prionlike propagation αsynuclein',\n",
              " 'a concise human brain methylome during aging',\n",
              " 'nonself mutation doublestranded rna elicits antiviral pathogenic response a drosophila model expanded cag repeat',\n",
              " 'olfactory dysfunction',\n",
              " 'nerolidol its pharmacological application treating a',\n",
              " 'determination parameters oxidative stress vitro models diseasesa',\n",
              " \"precision medicine some promising tips coming from micrornas' world\",\n",
              " 'lipophilic antioxidants',\n",
              " 'using induced pluripotent stem cell neuronal models study',\n",
              " 'circular rnas emerging class noncoding rnas their potential human',\n",
              " 'natural products a great promise but an ethical challenge',\n",
              " 'potential flavonoids treatment',\n",
              " 'mercury involvement neuronal damage',\n",
              " 'antisense transcription loci associated hereditary',\n",
              " 'cerebrospinal fluid plasma biomarkers',\n",
              " 'use curcumin a natural polyphenol targeting molecular pathways treating agerelated',\n",
              " 'poly adenosine diphosphateribosylation',\n",
              " 'nuclear receptors as therapeutic targets lost translation',\n",
              " 'interplay among gut microbiota intestinal mucosal barrier enteric neuroimmune system a common path diseases?',\n",
              " 'propagation protein aggregation',\n",
              " 'mitochondria special issue bmb reports 2020',\n",
              " 'regulation mitophagy by ubiquitin pathway',\n",
              " \"diagnostic function neuroinflammatory biomarker ykl40 alzheimer's disease other\",\n",
              " 'nucleic acid aptamers',\n",
              " 'genetic effects welding fumes on progression',\n",
              " \"free cued selective reminding test accuracy differential diagnosis alzheimer's a largescale biomarkercharacterized monocenter cohort study clinad\",\n",
              " 'emerging links between cerebrovascular diseasesa special pericytes',\n",
              " 'dynasore suppresses mtorc1 activity induces autophagy regulate clearance protein aggregates',\n",
              " 'repurposing copperiichelating drugs treatment',\n",
              " 'glutamate glutamate transporters circadian rhythm sleep disorders',\n",
              " 'reninangiotensin system a brief',\n",
              " 'rare clinical genetic update',\n",
              " 'mitochondrial dysfunction plays a key development diabetes',\n",
              " 'locus coeruleus imaging as a biomarker noradrenergic dysfunction',\n",
              " 'differential protein expression hippocampal cells associated with heavy metals pb as mehg neurotoxicity deepening into molecular mechanism',\n",
              " 'contribution necroptosis',\n",
              " 'inflammation cns',\n",
              " 'guidelines on experimental methods assess mitochondrial dysfunction cellular models',\n",
              " 'pharmacological intervention early neuropathy',\n",
              " 'alteration sphingolipids biofluids implications',\n",
              " 'burden eastern mediterranean region 19902016 findings from global burden disease study 2016',\n",
              " 'nrf2 signaling retinal ganglion cells under oxidative stress ocular',\n",
              " 'antisense oligonucleotide therapeutics case polyglutamine disorders',\n",
              " 'long noncoding rnas',\n",
              " 'concise mesenchymal stem cells',\n",
              " 'asparagine endopeptidase is an innovative therapeutic target',\n",
              " 'reasonably activating nrf2 a longterm effective controllable strategy',\n",
              " 'uncovering pharmacological mechanism stemazole treatment based on a network pharmacology approach',\n",
              " 'cmycchloride intracellular channel 4 pathway lipopolysaccharideinduced',\n",
              " 'genetics advanced practice provider',\n",
              " 'using proteomics identify ubiquitin ligasesubstrate pairs how novel methods may unveil therapeutic targets',\n",
              " 'relationships between rapid eye movement sleep behavior disorder clinical assessments biomarkers treatment',\n",
              " 'stim proteins glutamate receptors neurons neuronal physiology',\n",
              " 'play advance against neurodegeneration exploring enteric glial cells gutbrain axis during',\n",
              " 'detecting common pathways key molecules from topology molecular networks',\n",
              " 'misfolded protein linked strategies toward biomarker development',\n",
              " 'concepts classification',\n",
              " 'a comparative systemlevel analysis',\n",
              " 'epigenetics histone deacetylases',\n",
              " 'golgi fragmentation is there a common cause?',\n",
              " 'small heat shock proteins especially hspb4 hspb5 are promising protectants',\n",
              " 'chronic eczematous dermatitis patients with may be an early marker bullous pemphigoid',\n",
              " 'adrenomedullin a novel target',\n",
              " 'sigma1 receptor an intracellular chaperone',\n",
              " 'roles chitinase 3like 1 development cancer inflammatory',\n",
              " 'fused sarcoma properties selfassembly correlation with',\n",
              " 'brain regionspecific gene signatures revealed by distinct astrocyte subpopulations unveil links glioma',\n",
              " 'mesenchymal stem cellmediated immunomodulation cell therapy',\n",
              " 'lipid lipid raft alteration aging a window development new biomarkers',\n",
              " 'antiinflammatory effect sirt1 sirt2 modulators on',\n",
              " 'recent advances induced pluripotent stem cells application',\n",
              " 'ferroptosis is regulated by mitochondria',\n",
              " 'emerging genetic alterations affecting exosome biology',\n",
              " 'hsp90 its cochaperones',\n",
              " 'neuropathological clinical diagnostic criteria chronic traumatic encephalopathy a critical examination relation other',\n",
              " 'chemical basis reactive oxygen species reactivity involvement',\n",
              " 'mitochondrial dynamics a key executioner',\n",
              " 'emerging developments targeting proteotoxicity']"
            ]
          },
          "metadata": {
            "tags": []
          },
          "execution_count": 14
        }
      ]
    },
    {
      "cell_type": "code",
      "metadata": {
        "id": "krcUbknXpoiQ"
      },
      "source": [
        ""
      ],
      "execution_count": 14,
      "outputs": []
    },
    {
      "cell_type": "code",
      "metadata": {
        "id": "3LD98ADmwvtG"
      },
      "source": [
        ""
      ],
      "execution_count": 14,
      "outputs": []
    },
    {
      "cell_type": "code",
      "metadata": {
        "id": "FayabB_awwDj",
        "outputId": "97aa2844-7d46-4512-d1fa-4e761745fd65",
        "colab": {
          "base_uri": "https://localhost:8080/"
        }
      },
      "source": [
        "vectorizer = CountVectorizer()\n",
        "X = vectorizer.fit_transform(new_lines)\n",
        "print(vectorizer.get_feature_names())\n",
        "print(X.toarray())"
      ],
      "execution_count": 15,
      "outputs": [
        {
          "output_type": "stream",
          "text": [
            "['19902016', '2016', '2020', '3like', 'abnormality', 'accuracy', 'acid', 'activating', 'activity', 'adenosine', 'adrenomedullin', 'adults', 'advance', 'advanced', 'advances', 'affecting', 'affects', 'against', 'agerelated', 'aggregates', 'aggregation', 'aging', 'alkaloid', 'alteration', 'alterations', 'alzheimer', 'among', 'an', 'analysis', 'analytical', 'animal', 'antiinflammatory', 'antioxidants', 'antisense', 'antiviral', 'application', 'approach', 'aptamers', 'are', 'as', 'asparagine', 'assess', 'assessment', 'assessments', 'associated', 'astrocyte', 'autophagy', 'axis', 'barrier', 'based', 'basis', 'be', 'behavior', 'berberine', 'between', 'biochemistry', 'biofluids', 'biology', 'biomarker', 'biomarkercharacterized', 'biomarkers', 'bmb', 'brain', 'breaks', 'brief', 'bullous', 'burden', 'but', 'by', 'ca2', 'cag', 'camp', 'cancer', 'cardiovascular', 'case', 'catechins', 'cause', 'cell', 'cellmediated', 'cells', 'cellular', 'cerebrospinal', 'cerebrovascular', 'challenge', 'channel', 'chaperone', 'chaperones', 'chemical', 'chitinase', 'chronic', 'circadian', 'circular', 'class', 'classification', 'clearance', 'clinad', 'clinical', 'cmycchloride', 'cns', 'cochaperones', 'coeruleus', 'cohort', 'combating', 'coming', 'common', 'comparative', 'concepts', 'concise', 'connection', 'contribute', 'contribution', 'controllable', 'copperiichelating', 'correlation', 'criteria', 'critical', 'cued', 'curcumin', 'current', 'damage', 'deacetylases', 'deepening', 'dermatitis', 'detecting', 'detection', 'determination', 'development', 'developments', 'diabetes', 'diagnosis', 'diagnostic', 'dietary', 'differences', 'differential', 'diphosphateribosylation', 'disease', 'diseasemodifying', 'diseases', 'diseasesa', 'disorder', 'disorders', 'distinct', 'dna', 'do', 'doublestrand', 'doublestranded', 'drosophila', 'drugs', 'during', 'dynamics', 'dynaminrelated', 'dynasore', 'dysfunction', 'dysfunctions', 'dysphasia', 'dysregulation', 'early', 'eastern', 'eczematous', 'effect', 'effective', 'effects', 'elegans', 'elicits', 'emerging', 'encephalopathy', 'endopeptidase', 'enteric', 'epigenetics', 'especially', 'ethical', 'examination', 'executioner', 'exosome', 'exosomes', 'expanded', 'experimental', 'exploring', 'expression', 'eye', 'family', 'ferroptosis', 'findings', 'flavonoids', 'fluid', 'fragmentation', 'free', 'from', 'fumes', 'function', 'fused', 'ganglion', 'gene', 'genetic', 'genetics', 'glial', 'glioma', 'global', 'glutamate', 'golgi', 'great', 'green', 'guidelines', 'gut', 'gutbrain', 'heat', 'heavy', 'hereditary', 'hippocampal', 'histone', 'how', 'hsp90', 'hspb4', 'hspb5', 'human', 'hydrogen', 'hypertension', 'identify', 'imaging', 'immunomodulation', 'impact', 'implications', 'induced', 'induces', 'inflammation', 'inflammatory', 'innovative', 'insights', 'interaction', 'interplay', 'intervention', 'intestinal', 'into', 'intracellular', 'involvement', 'is', 'issue', 'it', 'its', 'key', 'largescale', 'ligasesubstrate', 'link', 'linked', 'links', 'lipid', 'lipophilic', 'lipopolysaccharideinduced', 'loci', 'locus', 'long', 'longterm', 'lost', 'management', 'manifestation', 'marker', 'may', 'mechanism', 'mechanisms', 'medicine', 'mediterranean', 'mehg', 'mercury', 'mesenchymal', 'metals', 'methodologies', 'methods', 'methylome', 'microbiota', 'microglial', 'microrna', 'micrornas', 'mir200', 'misfolded', 'misfolding', 'mitochondria', 'mitochondrial', 'mitophagy', 'model', 'models', 'modulators', 'molecular', 'molecules', 'monocenter', 'movement', 'mtorc1', 'mucosal', 'mutation', 'natural', 'necroptosis', 'nerolidol', 'network', 'networks', 'neural', 'neurodegeneration', 'neuroimmune', 'neuroinflammatory', 'neuronal', 'neurons', 'neuropathological', 'neuropathy', 'neurotoxicity', 'new', 'noncoding', 'nonself', 'noradrenergic', 'novel', 'nrf2', 'nuclear', 'nucleic', 'nutritional', 'ocular', 'olfactory', 'oligonucleotide', 'on', 'other', 'oxidative', 'oxygen', 'pairs', 'parameters', 'path', 'pathogeneses', 'pathogenesis', 'pathogenic', 'pathway', 'pathways', 'patients', 'pb', 'pemphigoid', 'pericytes', 'pharmacological', 'pharmacology', 'physiology', 'plant', 'plasma', 'play', 'plays', 'pluripotent', 'poly', 'polyglutamine', 'polyphenol', 'potential', 'practice', 'precision', 'preclinical', 'prionlike', 'products', 'progression', 'promise', 'promising', 'propagation', 'properties', 'protectants', 'protective', 'protein', 'proteins', 'proteomics', 'proteotoxicity', 'provider', 'purinergic', 'raft', 'rapid', 'rare', 'reactive', 'reactivity', 'reasonably', 'recent', 'receptor', 'receptors', 'region', 'regionspecific', 'regulate', 'regulated', 'regulation', 'regulatory', 'relation', 'relationships', 'reminding', 'reninangiotensin', 'repeat', 'reports', 'repurposing', 'response', 'responses', 'retinal', 'revealed', 'revolutionize', 'rhythm', 'risk', 'rna', 'rnas', 'roles', 'sarcoma', 'selective', 'selenoproteins', 'selfassembly', 'sex', 'shock', 'sigma1', 'signaling', 'signalling', 'signatures', 'sirt1', 'sirt2', 'sleep', 'small', 'some', 'special', 'species', 'speech', 'sphingolipids', 'status', 'stem', 'stemazole', 'stim', 'strategies', 'strategy', 'stress', 'stressinduced', 'study', 'subpopulations', 'sulfide', 'suppresses', 'synucleinopathies', 'system', 'systematic', 'systemlevel', 'target', 'targeting', 'targets', 'tea', 'techniques', 'test', 'their', 'therapeutic', 'therapeutics', 'therapy', 'there', 'through', 'tips', 'tools', 'topology', 'toward', 'transcription', 'translation', 'transporters', 'traumatic', 'treating', 'treatment', 'trials', 'ubiquitin', 'uncovering', 'under', 'unveil', 'update', 'use', 'using', 'value', 'vitro', 'welding', 'what', 'window', 'with', 'world', 'ykl40', 'αsynuclein']\n",
            "[[0 0 0 ... 0 0 0]\n",
            " [0 0 0 ... 0 0 0]\n",
            " [0 0 0 ... 0 0 0]\n",
            " ...\n",
            " [0 0 0 ... 0 0 0]\n",
            " [0 0 0 ... 0 0 0]\n",
            " [0 0 0 ... 0 0 0]]\n"
          ],
          "name": "stdout"
        }
      ]
    },
    {
      "cell_type": "code",
      "metadata": {
        "id": "zWGSoY-MxCRg",
        "outputId": "74c895f5-60de-4994-f441-e9ad9fda1a0d",
        "colab": {
          "base_uri": "https://localhost:8080/"
        }
      },
      "source": [
        "X"
      ],
      "execution_count": 16,
      "outputs": [
        {
          "output_type": "execute_result",
          "data": {
            "text/plain": [
              "<100x466 sparse matrix of type '<class 'numpy.int64'>'\n",
              "\twith 662 stored elements in Compressed Sparse Row format>"
            ]
          },
          "metadata": {
            "tags": []
          },
          "execution_count": 16
        }
      ]
    },
    {
      "cell_type": "code",
      "metadata": {
        "id": "Dog6oFBexKH2",
        "outputId": "c47334cc-3622-4975-f798-51f3a4b3f7fc",
        "colab": {
          "base_uri": "https://localhost:8080/"
        }
      },
      "source": [
        "from sklearn.cluster import KMeans\n",
        "from sklearn.cluster import k_means_"
      ],
      "execution_count": 17,
      "outputs": [
        {
          "output_type": "stream",
          "text": [
            "/usr/local/lib/python3.6/dist-packages/sklearn/utils/deprecation.py:144: FutureWarning: The sklearn.cluster.k_means_ module is  deprecated in version 0.22 and will be removed in version 0.24. The corresponding classes / functions should instead be imported from sklearn.cluster. Anything that cannot be imported from sklearn.cluster is now part of the private API.\n",
            "  warnings.warn(message, FutureWarning)\n"
          ],
          "name": "stderr"
        }
      ]
    },
    {
      "cell_type": "code",
      "metadata": {
        "id": "oV-_4uMg1A3S"
      },
      "source": [
        " def euc_dist(X, Y = None, Y_norm_squared = None, squared = False):\n",
        "        return np.arccos(cosine_similarity(X, Y))/np.pi\n",
        " km = KMeans(n_clusters=6, init='k-means++', max_iter=100, n_init=1)\n",
        " y=km.fit(X)"
      ],
      "execution_count": 18,
      "outputs": []
    },
    {
      "cell_type": "code",
      "metadata": {
        "id": "a5XWoRLW1Hps",
        "outputId": "d7e776eb-6c68-4cba-9cf1-32ea06a83b87",
        "colab": {
          "base_uri": "https://localhost:8080/"
        }
      },
      "source": [
        " print(\"Top terms per cluster:\")\n",
        " order_centroids = km.cluster_centers_.argsort()[:, ::-1]\n",
        " terms = vectorizer.get_feature_names()\n",
        " for i in range(6):\n",
        "     print(\"Cluster %d:\" % i, end='')\n",
        "     for ind in order_centroids[i, :3]:\n",
        "         print(' %s' % terms[ind], end='')\n",
        "         print()"
      ],
      "execution_count": 19,
      "outputs": [
        {
          "output_type": "stream",
          "text": [
            "Top terms per cluster:\n",
            "Cluster 0: biomarker\n",
            " noradrenergic\n",
            " dysfunction\n",
            "Cluster 1: biomarkers\n",
            " treatment\n",
            " clinical\n",
            "Cluster 2: protein\n",
            " potential\n",
            " cells\n",
            "Cluster 3: differential\n",
            " cued\n",
            " reminding\n",
            "Cluster 4: therapeutic\n",
            " innovative\n",
            " asparagine\n",
            "Cluster 5: therapeutic\n",
            " use\n",
            " sulfide\n"
          ],
          "name": "stdout"
        }
      ]
    },
    {
      "cell_type": "code",
      "metadata": {
        "id": "GC0Nsz5m1RqH"
      },
      "source": [
        ""
      ],
      "execution_count": null,
      "outputs": []
    }
  ]
}